{
 "cells": [
  {
   "cell_type": "code",
   "execution_count": 3,
   "metadata": {},
   "outputs": [
    {
     "name": "stdout",
     "output_type": "stream",
     "text": [
      "please input your marks\n",
      "\n",
      "Maths        96\n",
      "Physics      78\n",
      "Chemistry    77\n",
      "English      72\n",
      "Urdu         75\n",
      "Please wait generating your marksheet\n",
      "\n",
      "Subject\t\t  Marks Obtained\t    Total Marks\n",
      "\n",
      "Maths\t\t\t 96 \t\t\t100\n",
      "Physics\t\t\t 78 \t\t\t100\n",
      "Chemistry\t\t 77 \t\t\t100\n",
      "English\t\t\t 72 \t\t\t100\n",
      "Urdu\t\t\t 75 \t\t\t100\n",
      "\n",
      "Total\t\t\t 398 \t\t\t 500\n",
      "\n",
      "Percentage \t:  79.60000000000001 %\n",
      "Grade\t\t:\tA grade \n"
     ]
    }
   ],
   "source": [
    "print(\"please input your marks\\n\")\n",
    "\n",
    "a=int(input(\"Maths        \"))\n",
    "b=int(input(\"Physics      \"))\n",
    "c=int(input(\"Chemistry    \"))\n",
    "d=int(input(\"English      \"))\n",
    "e=int(input(\"Urdu         \"))\n",
    "\n",
    "print(\"Please wait generating your marksheet\\n\")\n",
    "\n",
    "total=a+b+c+d+e\n",
    "per=float((total/500)*100)\n",
    "\n",
    "\n",
    "\n",
    "\n",
    "print (\"Subject\\t\\t  Marks Obtained\\t    Total Marks\\n\")\n",
    "\n",
    "print (\"Maths\\t\\t\\t\",a,\"\\t\\t\\t100\")\n",
    "print (\"Physics\\t\\t\\t\",b,\"\\t\\t\\t100\")\n",
    "print (\"Chemistry\\t\\t\",c,\"\\t\\t\\t100\")\n",
    "print (\"English\\t\\t\\t\",d,\"\\t\\t\\t100\")\n",
    "print (\"Urdu\\t\\t\\t\",e,\"\\t\\t\\t100\\n\")\n",
    "\n",
    "\n",
    "print (\"Total\\t\\t\\t\",total,\"\\t\\t\\t 500\\n\")\n",
    "\n",
    "print(\"Percentage \\t: \",per,\"%\")\n",
    "\n",
    "if per >= 80 and per <= 100:\n",
    "    print(\"Grade\\t\\t:\\tA+ Grade \")\n",
    "elif per >= 70 and per <= 80:\n",
    "    print(\"Grade\\t\\t:\\tA grade \")\n",
    "elif per >= 60 and per <= 70:\n",
    "    print(\"Grade\\t\\t:\\tB grade \")  \n",
    "elif per >= 50 and per <= 60:\n",
    "    print(\"Grade\\t\\t:\\tC grade \")\n",
    "elif per >= 40 and per <= 50:\n",
    "    print(\"Grade\\t\\t:\\tD grade \")\n",
    "elif per >= 40 and per <= 50:\n",
    "    print(\"Grade\\t\\t:\\tE grade \")\n",
    "elif per >= 0 and per <= 32:\n",
    "    print(\"Grade\\t\\t:  F grade \")\n",
    "else:    \n",
    "    print(\"Invalid\")"
   ]
  },
  {
   "cell_type": "code",
   "execution_count": 25,
   "metadata": {},
   "outputs": [
    {
     "name": "stdout",
     "output_type": "stream",
     "text": [
      "Enter any number to check its odd or even\n",
      "56\n",
      "56  is EVEN\n"
     ]
    }
   ],
   "source": [
    "num=int(input(\"Enter any number to check its odd or even\\n\"))\n",
    "if num%2==0:\n",
    "    print(num,\" is EVEN\")\n",
    "else:\n",
    "    print(num,\" is ODD\")"
   ]
  },
  {
   "cell_type": "code",
   "execution_count": 26,
   "metadata": {},
   "outputs": [
    {
     "name": "stdout",
     "output_type": "stream",
     "text": [
      "The length of the array list is :  6\n"
     ]
    }
   ],
   "source": [
    "arr=[\"Tomato\",\"Onion\",\"Potato\",\"Lemon\",\"Cucumber\",256]\n",
    "print(\"The length of the array list is : \",len(arr))"
   ]
  },
  {
   "cell_type": "code",
   "execution_count": 28,
   "metadata": {},
   "outputs": [
    {
     "name": "stdout",
     "output_type": "stream",
     "text": [
      "114\n"
     ]
    }
   ],
   "source": [
    "arr=[12,4,33,10,45,2,8]\n",
    "\n",
    "Total=0\n",
    "for x in range(0,len(arr)) :\n",
    "        Total=Total+arr[x]\n",
    "print(Total)"
   ]
  },
  {
   "cell_type": "code",
   "execution_count": 1,
   "metadata": {},
   "outputs": [
    {
     "name": "stdout",
     "output_type": "stream",
     "text": [
      "Enter Number of List : 3\n",
      "Enter Num : 22\n",
      "Enter Num : 33\n",
      "Enter Num : 44\n",
      "Largest Number From the list is :  44\n"
     ]
    }
   ],
   "source": [
    "arr=[]\n",
    "num=int(input(\"Enter Number of List : \"))\n",
    "\n",
    "for x in range(num):\n",
    "    numbers=int(input(\"Enter Num : \"))\n",
    "    arr.append(numbers)\n",
    "\n",
    "        \n",
    "print(\"Largest Number From the list is : \",max(arr))"
   ]
  },
  {
   "cell_type": "code",
   "execution_count": 2,
   "metadata": {},
   "outputs": [
    {
     "name": "stdout",
     "output_type": "stream",
     "text": [
      "1\n",
      "1\n",
      "2\n",
      "3\n"
     ]
    }
   ],
   "source": [
    "\n",
    "a = [1, 1, 2, 3, 5, 8, 13, 21, 34, 55, 89]\n",
    "\n",
    "for x in range(0,len(a)) :\n",
    "    if a[x] < 5 :\n",
    "        print(a[x])"
   ]
  },
  {
   "cell_type": "code",
   "execution_count": null,
   "metadata": {},
   "outputs": [],
   "source": []
  },
  {
   "cell_type": "code",
   "execution_count": null,
   "metadata": {},
   "outputs": [],
   "source": []
  },
  {
   "cell_type": "code",
   "execution_count": null,
   "metadata": {},
   "outputs": [],
   "source": []
  }
 ],
 "metadata": {
  "kernelspec": {
   "display_name": "Python 3",
   "language": "python",
   "name": "python3"
  },
  "language_info": {
   "codemirror_mode": {
    "name": "ipython",
    "version": 3
   },
   "file_extension": ".py",
   "mimetype": "text/x-python",
   "name": "python",
   "nbconvert_exporter": "python",
   "pygments_lexer": "ipython3",
   "version": "3.7.4"
  }
 },
 "nbformat": 4,
 "nbformat_minor": 2
}
