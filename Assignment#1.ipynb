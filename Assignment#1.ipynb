{
 "cells": [
  {
   "cell_type": "code",
   "execution_count": 1,
   "metadata": {},
   "outputs": [
    {
     "name": "stdout",
     "output_type": "stream",
     "text": [
      "Twinkle, twinkle, little star,\n",
      "\tHow I wonder what you are!\n",
      "\t\tUp above the world so high,,\n",
      "\tLike a diamond in the sky.\n",
      "Twinkle, twinkle, little star,\n",
      "\tHow I wonder what you are\n"
     ]
    }
   ],
   "source": [
    "print (\"Twinkle, twinkle, little star,\")\n",
    "print (\"\\tHow I wonder what you are!\")\n",
    "print (\"\\t\\tUp above the world so high,,\")\n",
    "print (\"\\tLike a diamond in the sky.\")\n",
    "print (\"Twinkle, twinkle, little star,\")\n",
    "print (\"\\tHow I wonder what you are\")\n"
   ]
  },
  {
   "cell_type": "code",
   "execution_count": 2,
   "metadata": {},
   "outputs": [
    {
     "name": "stdout",
     "output_type": "stream",
     "text": [
      "I am using the python version :  3.7.4 (default, Aug  9 2019, 18:34:13) [MSC v.1915 64 bit (AMD64)]\n",
      "Version info :  sys.version_info(major=3, minor=7, micro=4, releaselevel='final', serial=0)\n"
     ]
    }
   ],
   "source": [
    "import sys\n",
    "print (\"I am using the python version : \",sys.version)\n",
    "print (\"Version info : \",sys.version_info)"
   ]
  },
  {
   "cell_type": "code",
   "execution_count": 3,
   "metadata": {},
   "outputs": [
    {
     "name": "stdout",
     "output_type": "stream",
     "text": [
      "Today's Date :  2019-11-15\n"
     ]
    }
   ],
   "source": [
    "from datetime import date\n",
    "print (\"Today's Date : \",date.today())"
   ]
  },
  {
   "cell_type": "code",
   "execution_count": 4,
   "metadata": {},
   "outputs": [
    {
     "name": "stdout",
     "output_type": "stream",
     "text": [
      "Enter the radius of a crcle : 3\n",
      "Radius of a circle is : 3.0\n",
      "Ara of a circle is : 28.274333882308138\n"
     ]
    }
   ],
   "source": [
    "from math import pi\n",
    "r = float  (input(\"Enter the radius of a crcle : \"))\n",
    "print(\"Radius of a circle is :\",r)\n",
    "print(\"Ara of a circle is : \"+str(pi*r**2))"
   ]
  },
  {
   "cell_type": "code",
   "execution_count": 5,
   "metadata": {},
   "outputs": [
    {
     "name": "stdout",
     "output_type": "stream",
     "text": [
      "Enter Your Name : Haris\n",
      "siraH\n",
      "\n",
      "Enter num 1 : 2\n",
      "Enter num 2 : 3\n"
     ]
    }
   ],
   "source": [
    "word = input(\"Enter Your Name : \")\n",
    "for char in range(len(word) - 1, -1, -1):\n",
    "  print(word[char], end=\"\")\n",
    "print(\"\\n\")\n",
    "\n",
    "num1=float(input(\"Enter num 1 : \"))\n",
    "num2=float(input(\"Enter num 2 : \"))"
   ]
  },
  {
   "cell_type": "code",
   "execution_count": 6,
   "metadata": {},
   "outputs": [
    {
     "name": "stdout",
     "output_type": "stream",
     "text": [
      "2.0 + 3.0 = 5.0\n"
     ]
    }
   ],
   "source": [
    "print (\"{0} + {1} = {2}\".format(num1,num2,num1+num2))"
   ]
  },
  {
   "cell_type": "code",
   "execution_count": null,
   "metadata": {},
   "outputs": [],
   "source": []
  }
 ],
 "metadata": {
  "kernelspec": {
   "display_name": "Python 3",
   "language": "python",
   "name": "python3"
  },
  "language_info": {
   "codemirror_mode": {
    "name": "ipython",
    "version": 3
   },
   "file_extension": ".py",
   "mimetype": "text/x-python",
   "name": "python",
   "nbconvert_exporter": "python",
   "pygments_lexer": "ipython3",
   "version": "3.7.4"
  }
 },
 "nbformat": 4,
 "nbformat_minor": 2
}
