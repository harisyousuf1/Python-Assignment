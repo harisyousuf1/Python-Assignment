{
 "cells": [
  {
   "cell_type": "code",
   "execution_count": 1,
   "metadata": {
    "scrolled": true
   },
   "outputs": [
    {
     "name": "stdout",
     "output_type": "stream",
     "text": [
      "Enter first number \t5\n",
      "mention the operation to perform\t-\n",
      "Enter second number\t6\n",
      "5 - 6 = -1\n"
     ]
    }
   ],
   "source": [
    "val1 = int (input('Enter first number \\t'))\n",
    "op = input('mention the operation to perform\\t')\n",
    "val2 = int (input('Enter second number\\t'))\n",
    "\n",
    "if op=='+':\n",
    "    print (val1, \"+\" ,val2,  \"=\"  ,val1 + val2)\n",
    "    \n",
    "elif op=='-':\n",
    "        print (val1, \"-\" ,val2,  \"=\"  ,val1 - val2)\n",
    "elif op=='*':\n",
    "        print (val1, \"x\" ,val2,  \"=\"  ,val1 * val2)\n",
    "elif op=='/':\n",
    "        print (val1, \"/\" ,val2,  \"=\"  ,val1 / val2)\n",
    "elif op=='^':\n",
    "        print (val1, \"**\" ,val2, \"=\"  ,val1 ** val2)\n",
    "\n",
    "else:\n",
    "    print(\"please enter correct values\")"
   ]
  },
  {
   "cell_type": "code",
   "execution_count": 42,
   "metadata": {},
   "outputs": [
    {
     "name": "stdout",
     "output_type": "stream",
     "text": [
      "1\n",
      "2\n",
      "3\n",
      "4\n",
      "5\n",
      "2\n",
      "4\n"
     ]
    }
   ],
   "source": [
    "ini_list = [1, 2, 3, 4, 'a', 'b', 'x', 5, 'z',2,4] \n",
    "  \n",
    "# printing initial list \n",
    "\n",
    "# code to add numbers from list \n",
    "for item in ini_list: \n",
    "    try: \n",
    "        res= int(item) \n",
    "        print (res) \n",
    "    except ValueError: \n",
    "        pass\n",
    "  \n",
    "# printing result \n"
   ]
  },
  {
   "cell_type": "code",
   "execution_count": 55,
   "metadata": {},
   "outputs": [
    {
     "name": "stdout",
     "output_type": "stream",
     "text": [
      "{'name': 'haris', 'fathername': 'yousuf', 'city': 'karachi', 'gender': 'male'}\n",
      "{'name': 'haris', 'fathername': 'yousuf', 'city': 'karachi', 'gender': 'male', 'religion': 'Islam'}\n"
     ]
    }
   ],
   "source": [
    "initial_data={\"name\":\"haris\",\"fathername\":\"yousuf\",\"city\":\"karachi\",\"gender\":\"male\"}\n",
    "print(initial_data)\n",
    "\n",
    "initial_data[\"religion\"]=\"Islam\" \n",
    "\n",
    "print (initial_data)\n"
   ]
  },
  {
   "cell_type": "code",
   "execution_count": 69,
   "metadata": {},
   "outputs": [
    {
     "name": "stdout",
     "output_type": "stream",
     "text": [
      "initial list {'name': 'haris', 'fathername': 'yousuf', 'city': 'karachi', 'cell': 3222695059, 'gender': 'male', 'house no.': 'A-17'}\n",
      "resultant sum 0\n"
     ]
    }
   ],
   "source": [
    "ini_list = {'name': 'haris', 'fathername': 'yousuf', 'city': 'karachi','cell':3222695059,'gender':'male', 'house no.':'A-17'}\n",
    "  \n",
    "# printing initial list \n",
    "print (\"initial list\", str(ini_list)) \n",
    "  \n",
    "# code to add numbers from list \n",
    "res = 0\n",
    "for item in ini_list: \n",
    "    try: \n",
    "        res+= int(item) \n",
    "    except ValueError: \n",
    "        pass\n",
    "  \n",
    "# printing result \n",
    "print (\"resultant sum\", res) \n",
    "    "
   ]
  },
  {
   "cell_type": "code",
   "execution_count": 71,
   "metadata": {},
   "outputs": [
    {
     "name": "stdout",
     "output_type": "stream",
     "text": [
      "15\n",
      "20\n",
      "20\n",
      "30\n",
      "40\n",
      "50\n"
     ]
    }
   ],
   "source": [
    "my_list = [20,30,20,30,40,50,15,11,20,40,50,15]\n",
    "my_list.sort()\n",
    "for i in range (len (my_list) -1):\n",
    "     if my_list[i] == my_list[i+1]:\n",
    "             print (my_list[i])"
   ]
  },
  {
   "cell_type": "code",
   "execution_count": 75,
   "metadata": {},
   "outputs": [
    {
     "name": "stdout",
     "output_type": "stream",
     "text": [
      "Present,  value = 200\n",
      "Present,  value = 600\n"
     ]
    }
   ],
   "source": [
    "\n",
    "def checkKey(dict, key): \n",
    "      \n",
    "    if key in dict: \n",
    "        print(\"Present, \", end =\" \") \n",
    "        print(\"value =\", dict[key]) \n",
    "    else: \n",
    "        print(\"Not present\") \n",
    "  \n",
    "\n",
    "dict = {'a': 100, 'b':200, 'c':300, 'd':600} \n",
    "  \n",
    "key = 'b'\n",
    "checkKey(dict, key) \n",
    "  \n",
    "key = 'd'\n",
    "checkKey(dict, key) "
   ]
  },
  {
   "cell_type": "code",
   "execution_count": null,
   "metadata": {},
   "outputs": [],
   "source": []
  }
 ],
 "metadata": {
  "kernelspec": {
   "display_name": "Python 3",
   "language": "python",
   "name": "python3"
  },
  "language_info": {
   "codemirror_mode": {
    "name": "ipython",
    "version": 3
   },
   "file_extension": ".py",
   "mimetype": "text/x-python",
   "name": "python",
   "nbconvert_exporter": "python",
   "pygments_lexer": "ipython3",
   "version": "3.7.4"
  }
 },
 "nbformat": 4,
 "nbformat_minor": 2
}
