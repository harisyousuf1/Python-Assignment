{
 "cells": [
  {
   "cell_type": "code",
   "execution_count": null,
   "metadata": {},
   "outputs": [],
   "source": []
  },
  {
   "cell_type": "code",
   "execution_count": 2,
   "metadata": {},
   "outputs": [
    {
     "name": "stdout",
     "output_type": "stream",
     "text": [
      "('first_name', 'Ali')\n",
      "('last_name', 'Mughal')\n",
      "('age', '27')\n",
      "('city', 'karachi')\n",
      "('first_name', 'Ali')\n",
      "('last_name', 'Mughal')\n",
      "('age', '27')\n",
      "('city', 'karachi')\n",
      "('qualification', 'Masters')\n",
      "('first_name', 'Ali')\n",
      "('last_name', 'Mughal')\n",
      "('age', '27')\n",
      "('city', 'karachi')\n",
      "('qualification', 'high academic level')\n",
      "('first_name', 'Ali')\n",
      "('last_name', 'Mughal')\n",
      "('age', '27')\n",
      "('city', 'karachi')\n"
     ]
    }
   ],
   "source": [
    "person = {\"first_name\":\"Ali\",\"last_name\":\"Mughal\",\"age\":\"27\",\"city\":\"karachi\"}\n",
    "for info in person.items():\n",
    "\n",
    "    print(info)\n",
    "\n",
    "person[\"qualification\"]=\"Masters\"\n",
    "for info in person.items():\n",
    "\n",
    "    print(info)\n",
    "\n",
    "person[\"qualification\"]=\"high academic level\"\n",
    "\n",
    "for info in person.items():\n",
    "\n",
    "    print (info)\n",
    "del person[\"qualification\"]\n",
    "for info in person.items():\n",
    "\n",
    "    print(info)"
   ]
  },
  {
   "cell_type": "code",
   "execution_count": 1,
   "metadata": {},
   "outputs": [
    {
     "name": "stdout",
     "output_type": "stream",
     "text": [
      "[{1: 'Karachi', 'country': 'Pakistan', 'population': '2 crore', 'fact': 'its called city of lights'}, {2: 'Makkah', 'country': 'Saudia Arabia', 'population': '1675368', 'fact': 'its a holy city of Muslims'}, {3: 'Chiang Mai', 'country': 'Thailand', 'population': '131091', 'fact': 'chiang mai means new city'}]\n"
     ]
    }
   ],
   "source": [
    "cities=[\n",
    "    {1:\"Karachi\",\n",
    "        \"country\":\"Pakistan\",\n",
    "        \"population\":\"2 crore\",\n",
    "        \"fact\":\"its called city of lights\"},\n",
    "    \n",
    "    {2:\"Makkah\",\n",
    "        \"country\":\"Saudia Arabia\",\n",
    "        \"population\":\"1675368\",\n",
    "        \"fact\":\"its a holy city of Muslims\"},\n",
    "    \n",
    "    {3:\"Chiang Mai\",\n",
    "        \"country\":\"Thailand\",\n",
    "        \"population\":\"131091\",\n",
    "        \"fact\":\"chiang mai means new city\"}\n",
    "]\n",
    "\n",
    "\n",
    "print(cities)"
   ]
  },
  {
   "cell_type": "code",
   "execution_count": null,
   "metadata": {},
   "outputs": [
    {
     "name": "stdout",
     "output_type": "stream",
     "text": [
      "Please enter your age12\n",
      "please pay $15\n"
     ]
    }
   ],
   "source": [
    "while(1):\n",
    "    age =int (input (\"Please enter your age\"))\n",
    "\n",
    "    if age <= 3:\n",
    "        print (\"you can go free of cost\")\n",
    "    \n",
    "    \n",
    "    elif age > 3 and age < 12:\n",
    "        print (\"please pay $10\")\n",
    "    \n",
    "    elif age >= 12:\n",
    "        print (\"please pay $15\")\n",
    "\n",
    "    else: \n",
    "        print(\"enter the correct age\")"
   ]
  },
  {
   "cell_type": "code",
   "execution_count": 23,
   "metadata": {},
   "outputs": [
    {
     "name": "stdout",
     "output_type": "stream",
     "text": [
      "This book alif is really nice that describes the value of sprituality\n"
     ]
    }
   ],
   "source": [
    "def favorite_book(Title):\n",
    "    \n",
    "    msg=\"This book \"+Title+\" is really nice that describes the value of sprituality\"\n",
    "    print (msg)\n",
    "    \n",
    "favorite_book (\"alif\")"
   ]
  },
  {
   "cell_type": "code",
   "execution_count": 3,
   "metadata": {},
   "outputs": [
    {
     "name": "stdout",
     "output_type": "stream",
     "text": [
      "Enter an integer from 1 to 99: 3\n",
      "guess is low\n",
      "Enter an integer from 1 to 99: 4\n",
      "guess is low\n",
      "Enter an integer from 1 to 99: 66\n",
      "guess is high\n",
      "Enter an integer from 1 to 99: 55\n",
      "guess is high\n",
      "Enter an integer from 1 to 99: 44\n",
      "you guessed it!\n"
     ]
    }
   ],
   "source": [
    "import random\n",
    "n = random.randint(1, 99)\n",
    "guess = int(input(\"Enter an integer from 1 to 99: \"))\n",
    "while n != \"guess\":\n",
    "  \n",
    "    if guess < n:\n",
    "        print (\"guess is low\")\n",
    "        guess = int(input(\"Enter an integer from 1 to 99: \"))\n",
    "    elif guess > n:\n",
    "        print (\"guess is high\")\n",
    "        guess = int(input(\"Enter an integer from 1 to 99: \"))\n",
    "    else:\n",
    "        print (\"you guessed it!\")\n",
    "        break\n",
    "   "
   ]
  },
  {
   "cell_type": "code",
   "execution_count": null,
   "metadata": {},
   "outputs": [],
   "source": []
  }
 ],
 "metadata": {
  "kernelspec": {
   "display_name": "Python 3",
   "language": "python",
   "name": "python3"
  },
  "language_info": {
   "codemirror_mode": {
    "name": "ipython",
    "version": 3
   },
   "file_extension": ".py",
   "mimetype": "text/x-python",
   "name": "python",
   "nbconvert_exporter": "python",
   "pygments_lexer": "ipython3",
   "version": "3.7.4"
  }
 },
 "nbformat": 4,
 "nbformat_minor": 2
}
